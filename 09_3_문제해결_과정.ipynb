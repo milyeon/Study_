{
  "nbformat": 4,
  "nbformat_minor": 0,
  "metadata": {
    "colab": {
      "name": "09_3_문제해결_과정.ipynb",
      "provenance": [],
      "authorship_tag": "ABX9TyOFVwdhdpZMn+wGIcbVrohI",
      "include_colab_link": true
    },
    "kernelspec": {
      "name": "python3",
      "display_name": "Python 3"
    },
    "language_info": {
      "name": "python"
    }
  },
  "cells": [
    {
      "cell_type": "markdown",
      "metadata": {
        "id": "view-in-github",
        "colab_type": "text"
      },
      "source": [
        "<a href=\"https://colab.research.google.com/github/milyeon/Study_/blob/main/09_3_%EB%AC%B8%EC%A0%9C%ED%95%B4%EA%B2%B0_%EA%B3%BC%EC%A0%95.ipynb\" target=\"_parent\"><img src=\"https://colab.research.google.com/assets/colab-badge.svg\" alt=\"Open In Colab\"/></a>"
      ]
    },
    {
      "cell_type": "code",
      "execution_count": 1,
      "metadata": {
        "colab": {
          "base_uri": "https://localhost:8080/"
        },
        "id": "tThr9QUScz1S",
        "outputId": "d666db9b-d4ce-4380-a7d9-16d49744de2a"
      },
      "outputs": [
        {
          "output_type": "stream",
          "name": "stdout",
          "text": [
            "Downloading data from https://storage.googleapis.com/tensorflow/tf-keras-datasets/imdb.npz\n",
            "17465344/17464789 [==============================] - 0s 0us/step\n",
            "17473536/17464789 [==============================] - 0s 0us/step\n"
          ]
        }
      ],
      "source": [
        "from tensorflow.keras.datasets import imdb\n",
        "from sklearn.model_selection import train_test_split\n",
        "(train_input, train_target), (test_input, test_target) = imdb.load_data(num_words=500)\n",
        "train_input, val_input, train_target, val_target = train_test_split(train_input, train_target, test_size=0.2, random_state=42)"
      ]
    },
    {
      "cell_type": "code",
      "source": [
        "from tensorflow.keras.preprocessing.sequence import pad_sequences\n",
        "train_seq = pad_sequences(train_input, maxlen=100)\n",
        "val_seq = pad_sequences(val_input, maxlen=100)"
      ],
      "metadata": {
        "id": "1dcC5_KzfSP4"
      },
      "execution_count": 2,
      "outputs": []
    },
    {
      "cell_type": "code",
      "source": [
        "from tensorflow import keras\n",
        "model = keras.Sequential()\n",
        "model.add(keras.layers.Embedding(500, 16, input_length=100))\n",
        "model.add(keras.layers.LSTM(8))\n",
        "model.add(keras.layers.Dense(1, activation='sigmoid'))"
      ],
      "metadata": {
        "id": "7sCdn9uWfpAM"
      },
      "execution_count": 3,
      "outputs": []
    },
    {
      "cell_type": "code",
      "source": [
        "model.summary()"
      ],
      "metadata": {
        "colab": {
          "base_uri": "https://localhost:8080/"
        },
        "id": "rvWp-1kWgED-",
        "outputId": "389beefa-95f0-47a1-83c7-5867e1e27a7e"
      },
      "execution_count": 4,
      "outputs": [
        {
          "output_type": "stream",
          "name": "stdout",
          "text": [
            "Model: \"sequential\"\n",
            "_________________________________________________________________\n",
            " Layer (type)                Output Shape              Param #   \n",
            "=================================================================\n",
            " embedding (Embedding)       (None, 100, 16)           8000      \n",
            "                                                                 \n",
            " lstm (LSTM)                 (None, 8)                 800       \n",
            "                                                                 \n",
            " dense (Dense)               (None, 1)                 9         \n",
            "                                                                 \n",
            "=================================================================\n",
            "Total params: 8,809\n",
            "Trainable params: 8,809\n",
            "Non-trainable params: 0\n",
            "_________________________________________________________________\n"
          ]
        }
      ]
    },
    {
      "cell_type": "code",
      "source": [
        "rmsprop = keras.optimizers.RMSprop(learning_rate=1e-4)\n",
        "model.compile(optimizer=rmsprop, loss='binary_crossentropy', metrics=['accuracy'])\n",
        "checkpoint_cb = keras.callbacks.ModelCheckpoint('best_lstm_model.h5')\n",
        "early_stopping_cb = keras.callbacks.EarlyStopping(patience=3, restore_best_weights=True)\n",
        "history = model. fit(train_seq, train_target, epochs=100, batch_size=64, validation_data=(val_seq, val_target), callbacks=[checkpoint_cb, early_stopping_cb])"
      ],
      "metadata": {
        "colab": {
          "base_uri": "https://localhost:8080/"
        },
        "id": "rv_9tnkpgGOm",
        "outputId": "4241b9e7-ebf0-4196-e00c-914101a99eab"
      },
      "execution_count": 5,
      "outputs": [
        {
          "output_type": "stream",
          "name": "stdout",
          "text": [
            "Epoch 1/100\n",
            "313/313 [==============================] - 16s 43ms/step - loss: 0.6927 - accuracy: 0.5253 - val_loss: 0.6921 - val_accuracy: 0.5508\n",
            "Epoch 2/100\n",
            "313/313 [==============================] - 19s 62ms/step - loss: 0.6904 - accuracy: 0.6022 - val_loss: 0.6888 - val_accuracy: 0.6300\n",
            "Epoch 3/100\n",
            "313/313 [==============================] - 25s 80ms/step - loss: 0.6845 - accuracy: 0.6599 - val_loss: 0.6794 - val_accuracy: 0.6774\n",
            "Epoch 4/100\n",
            "313/313 [==============================] - 18s 59ms/step - loss: 0.6619 - accuracy: 0.6981 - val_loss: 0.6302 - val_accuracy: 0.7150\n",
            "Epoch 5/100\n",
            "313/313 [==============================] - 20s 64ms/step - loss: 0.5888 - accuracy: 0.7230 - val_loss: 0.5718 - val_accuracy: 0.7266\n",
            "Epoch 6/100\n",
            "313/313 [==============================] - 20s 63ms/step - loss: 0.5555 - accuracy: 0.7385 - val_loss: 0.5484 - val_accuracy: 0.7446\n",
            "Epoch 7/100\n",
            "313/313 [==============================] - 19s 61ms/step - loss: 0.5317 - accuracy: 0.7552 - val_loss: 0.5266 - val_accuracy: 0.7610\n",
            "Epoch 8/100\n",
            "313/313 [==============================] - 16s 51ms/step - loss: 0.5095 - accuracy: 0.7676 - val_loss: 0.5058 - val_accuracy: 0.7694\n",
            "Epoch 9/100\n",
            "313/313 [==============================] - 18s 57ms/step - loss: 0.4899 - accuracy: 0.7789 - val_loss: 0.4894 - val_accuracy: 0.7790\n",
            "Epoch 10/100\n",
            "313/313 [==============================] - 18s 57ms/step - loss: 0.4737 - accuracy: 0.7876 - val_loss: 0.4761 - val_accuracy: 0.7838\n",
            "Epoch 11/100\n",
            "313/313 [==============================] - 13s 42ms/step - loss: 0.4612 - accuracy: 0.7918 - val_loss: 0.4666 - val_accuracy: 0.7896\n",
            "Epoch 12/100\n",
            "313/313 [==============================] - 13s 41ms/step - loss: 0.4517 - accuracy: 0.7984 - val_loss: 0.4608 - val_accuracy: 0.7894\n",
            "Epoch 13/100\n",
            "313/313 [==============================] - 13s 40ms/step - loss: 0.4438 - accuracy: 0.8031 - val_loss: 0.4533 - val_accuracy: 0.7936\n",
            "Epoch 14/100\n",
            "313/313 [==============================] - 13s 40ms/step - loss: 0.4377 - accuracy: 0.8045 - val_loss: 0.4482 - val_accuracy: 0.7972\n",
            "Epoch 15/100\n",
            "313/313 [==============================] - 13s 41ms/step - loss: 0.4328 - accuracy: 0.8070 - val_loss: 0.4459 - val_accuracy: 0.7940\n",
            "Epoch 16/100\n",
            "313/313 [==============================] - 13s 41ms/step - loss: 0.4288 - accuracy: 0.8073 - val_loss: 0.4441 - val_accuracy: 0.7930\n",
            "Epoch 17/100\n",
            "313/313 [==============================] - 13s 42ms/step - loss: 0.4256 - accuracy: 0.8095 - val_loss: 0.4396 - val_accuracy: 0.7988\n",
            "Epoch 18/100\n",
            "313/313 [==============================] - 13s 40ms/step - loss: 0.4227 - accuracy: 0.8094 - val_loss: 0.4401 - val_accuracy: 0.7996\n",
            "Epoch 19/100\n",
            "313/313 [==============================] - 13s 42ms/step - loss: 0.4206 - accuracy: 0.8098 - val_loss: 0.4404 - val_accuracy: 0.7992\n",
            "Epoch 20/100\n",
            "313/313 [==============================] - 13s 40ms/step - loss: 0.4183 - accuracy: 0.8102 - val_loss: 0.4357 - val_accuracy: 0.7996\n",
            "Epoch 21/100\n",
            "313/313 [==============================] - 13s 41ms/step - loss: 0.4171 - accuracy: 0.8102 - val_loss: 0.4344 - val_accuracy: 0.7988\n",
            "Epoch 22/100\n",
            "313/313 [==============================] - 13s 40ms/step - loss: 0.4153 - accuracy: 0.8124 - val_loss: 0.4339 - val_accuracy: 0.7992\n",
            "Epoch 23/100\n",
            "313/313 [==============================] - 13s 43ms/step - loss: 0.4142 - accuracy: 0.8120 - val_loss: 0.4362 - val_accuracy: 0.7988\n",
            "Epoch 24/100\n",
            "313/313 [==============================] - 13s 41ms/step - loss: 0.4133 - accuracy: 0.8123 - val_loss: 0.4365 - val_accuracy: 0.8026\n",
            "Epoch 25/100\n",
            "313/313 [==============================] - 13s 41ms/step - loss: 0.4124 - accuracy: 0.8134 - val_loss: 0.4325 - val_accuracy: 0.7984\n",
            "Epoch 26/100\n",
            "313/313 [==============================] - 13s 41ms/step - loss: 0.4118 - accuracy: 0.8124 - val_loss: 0.4330 - val_accuracy: 0.8002\n",
            "Epoch 27/100\n",
            "313/313 [==============================] - 13s 41ms/step - loss: 0.4106 - accuracy: 0.8116 - val_loss: 0.4317 - val_accuracy: 0.7994\n",
            "Epoch 28/100\n",
            "313/313 [==============================] - 13s 41ms/step - loss: 0.4102 - accuracy: 0.8128 - val_loss: 0.4324 - val_accuracy: 0.8018\n",
            "Epoch 29/100\n",
            "313/313 [==============================] - 13s 41ms/step - loss: 0.4097 - accuracy: 0.8137 - val_loss: 0.4320 - val_accuracy: 0.7992\n",
            "Epoch 30/100\n",
            "313/313 [==============================] - 13s 41ms/step - loss: 0.4088 - accuracy: 0.8142 - val_loss: 0.4331 - val_accuracy: 0.7972\n"
          ]
        }
      ]
    },
    {
      "cell_type": "code",
      "source": [
        "import matplotlib.pyplot as plt\n",
        "\n",
        "plt.plot(history.history['loss'])\n",
        "plt.plot(history.history['val_loss'])\n",
        "plt.xlabel('epoch')\n",
        "plt.ylabel('loss')\n",
        "plt.legend(['train', 'val'])\n",
        "plt.show()"
      ],
      "metadata": {
        "colab": {
          "base_uri": "https://localhost:8080/",
          "height": 279
        },
        "id": "xpyoNuy-hPJM",
        "outputId": "d561b6f2-cfb1-41a3-9cad-12cb6057f2e2"
      },
      "execution_count": 6,
      "outputs": [
        {
          "output_type": "display_data",
          "data": {
            "image/png": "[encoded data removed]",
            "text/plain": [
              "<Figure size 432x288 with 1 Axes>"
            ]
          },
          "metadata": {
            "needs_background": "light"
          }
        }
      ]
    },
    {
      "cell_type": "code",
      "source": [
        "model3 = keras.Sequential()\n",
        "model3.add(keras.layers.Embedding(500, 16, input_length=100))\n",
        "model3.add(keras.layers.LSTM(8, dropout=0.3, return_sequences=True))\n",
        "model3.add(keras.layers.LSTM(8, dropout=0.3))\n",
        "model3.add(keras.layers.Dense(1, activation='sigmoid'))"
      ],
      "metadata": {
        "id": "DcSrLOBRFvtJ"
      },
      "execution_count": 7,
      "outputs": []
    },
    {
      "cell_type": "code",
      "source": [
        "model3.summary()"
      ],
      "metadata": {
        "colab": {
          "base_uri": "https://localhost:8080/"
        },
        "id": "vMQFFWTUIGEo",
        "outputId": "ff02d738-5ad4-4b08-b945-d38e037a8950"
      },
      "execution_count": 8,
      "outputs": [
        {
          "output_type": "stream",
          "name": "stdout",
          "text": [
            "Model: \"sequential_1\"\n",
            "_________________________________________________________________\n",
            " Layer (type)                Output Shape              Param #   \n",
            "=================================================================\n",
            " embedding_1 (Embedding)     (None, 100, 16)           8000      \n",
            "                                                                 \n",
            " lstm_1 (LSTM)               (None, 100, 8)            800       \n",
            "                                                                 \n",
            " lstm_2 (LSTM)               (None, 8)                 544       \n",
            "                                                                 \n",
            " dense_1 (Dense)             (None, 1)                 9         \n",
            "                                                                 \n",
            "=================================================================\n",
            "Total params: 9,353\n",
            "Trainable params: 9,353\n",
            "Non-trainable params: 0\n",
            "_________________________________________________________________\n"
          ]
        }
      ]
    },
    {
      "cell_type": "code",
      "source": [
        "rmsprop = keras.optimizers.RMSprop(learning_rate=1e-4)\n",
        "model3.compile(optimizer=rmsprop, loss='binary_crossentropy', metrics=['accuracy'])\n",
        "checkpoint_cb = keras.callbacks.ModelCheckpoint('best-2rnn-model.h5')\n",
        "early_stopping_cb = keras.callbacks.EarlyStopping(patience=3, restore_best_weights=True)\n",
        "history = model3.fit(train_seq, train_target, epochs=100, batch_size=64, validation_data=(val_seq, val_target), callbacks=[checkpoint_cb, early_stopping_cb])"
      ],
      "metadata": {
        "colab": {
          "base_uri": "https://localhost:8080/"
        },
        "id": "3xGat0aMJeBg",
        "outputId": "288c74d8-0539-41d5-8c3a-370579917831"
      },
      "execution_count": 9,
      "outputs": [
        {
          "output_type": "stream",
          "name": "stdout",
          "text": [
            "Epoch 1/100\n",
            "313/313 [==============================] - 32s 86ms/step - loss: 0.6929 - accuracy: 0.5178 - val_loss: 0.6927 - val_accuracy: 0.5246\n",
            "Epoch 2/100\n",
            "313/313 [==============================] - 26s 82ms/step - loss: 0.6918 - accuracy: 0.5724 - val_loss: 0.6906 - val_accuracy: 0.6178\n",
            "Epoch 3/100\n",
            "313/313 [==============================] - 26s 82ms/step - loss: 0.6876 - accuracy: 0.6290 - val_loss: 0.6829 - val_accuracy: 0.6570\n",
            "Epoch 4/100\n",
            "313/313 [==============================] - 26s 83ms/step - loss: 0.6697 - accuracy: 0.6638 - val_loss: 0.6472 - val_accuracy: 0.6880\n",
            "Epoch 5/100\n",
            "313/313 [==============================] - 26s 82ms/step - loss: 0.5965 - accuracy: 0.7074 - val_loss: 0.5649 - val_accuracy: 0.7124\n",
            "Epoch 6/100\n",
            "313/313 [==============================] - 26s 84ms/step - loss: 0.5377 - accuracy: 0.7356 - val_loss: 0.5232 - val_accuracy: 0.7430\n",
            "Epoch 7/100\n",
            "313/313 [==============================] - 26s 84ms/step - loss: 0.5142 - accuracy: 0.7541 - val_loss: 0.5021 - val_accuracy: 0.7564\n",
            "Epoch 8/100\n",
            "313/313 [==============================] - 26s 82ms/step - loss: 0.4964 - accuracy: 0.7661 - val_loss: 0.4887 - val_accuracy: 0.7644\n",
            "Epoch 9/100\n",
            "313/313 [==============================] - 26s 83ms/step - loss: 0.4858 - accuracy: 0.7721 - val_loss: 0.4796 - val_accuracy: 0.7768\n",
            "Epoch 10/100\n",
            "313/313 [==============================] - 26s 83ms/step - loss: 0.4764 - accuracy: 0.7775 - val_loss: 0.4726 - val_accuracy: 0.7810\n",
            "Epoch 11/100\n",
            "313/313 [==============================] - 25s 81ms/step - loss: 0.4676 - accuracy: 0.7854 - val_loss: 0.4651 - val_accuracy: 0.7818\n",
            "Epoch 12/100\n",
            "313/313 [==============================] - 25s 81ms/step - loss: 0.4607 - accuracy: 0.7875 - val_loss: 0.4591 - val_accuracy: 0.7872\n",
            "Epoch 13/100\n",
            "313/313 [==============================] - 25s 81ms/step - loss: 0.4570 - accuracy: 0.7898 - val_loss: 0.4556 - val_accuracy: 0.7870\n",
            "Epoch 14/100\n",
            "313/313 [==============================] - 25s 81ms/step - loss: 0.4529 - accuracy: 0.7915 - val_loss: 0.4523 - val_accuracy: 0.7884\n",
            "Epoch 15/100\n",
            "313/313 [==============================] - 26s 82ms/step - loss: 0.4495 - accuracy: 0.7939 - val_loss: 0.4502 - val_accuracy: 0.7900\n",
            "Epoch 16/100\n",
            "313/313 [==============================] - 26s 83ms/step - loss: 0.4450 - accuracy: 0.7969 - val_loss: 0.4487 - val_accuracy: 0.7920\n",
            "Epoch 17/100\n",
            "313/313 [==============================] - 26s 83ms/step - loss: 0.4441 - accuracy: 0.7988 - val_loss: 0.4525 - val_accuracy: 0.7888\n",
            "Epoch 18/100\n",
            "313/313 [==============================] - 26s 82ms/step - loss: 0.4413 - accuracy: 0.7982 - val_loss: 0.4452 - val_accuracy: 0.7938\n",
            "Epoch 19/100\n",
            "313/313 [==============================] - 26s 83ms/step - loss: 0.4404 - accuracy: 0.7994 - val_loss: 0.4480 - val_accuracy: 0.7920\n",
            "Epoch 20/100\n",
            "313/313 [==============================] - 26s 82ms/step - loss: 0.4391 - accuracy: 0.7998 - val_loss: 0.4527 - val_accuracy: 0.7844\n",
            "Epoch 21/100\n",
            "313/313 [==============================] - 26s 83ms/step - loss: 0.4377 - accuracy: 0.7972 - val_loss: 0.4418 - val_accuracy: 0.7962\n",
            "Epoch 22/100\n",
            "313/313 [==============================] - 25s 81ms/step - loss: 0.4349 - accuracy: 0.8008 - val_loss: 0.4410 - val_accuracy: 0.7934\n",
            "Epoch 23/100\n",
            "313/313 [==============================] - 25s 81ms/step - loss: 0.4337 - accuracy: 0.8041 - val_loss: 0.4471 - val_accuracy: 0.7954\n",
            "Epoch 24/100\n",
            "313/313 [==============================] - 26s 82ms/step - loss: 0.4317 - accuracy: 0.8012 - val_loss: 0.4428 - val_accuracy: 0.7958\n",
            "Epoch 25/100\n",
            "313/313 [==============================] - 25s 81ms/step - loss: 0.4302 - accuracy: 0.8026 - val_loss: 0.4392 - val_accuracy: 0.7978\n",
            "Epoch 26/100\n",
            "313/313 [==============================] - 25s 81ms/step - loss: 0.4273 - accuracy: 0.8066 - val_loss: 0.4370 - val_accuracy: 0.7978\n",
            "Epoch 27/100\n",
            "313/313 [==============================] - 25s 81ms/step - loss: 0.4297 - accuracy: 0.8034 - val_loss: 0.4407 - val_accuracy: 0.7978\n",
            "Epoch 28/100\n",
            "313/313 [==============================] - 25s 81ms/step - loss: 0.4265 - accuracy: 0.8029 - val_loss: 0.4384 - val_accuracy: 0.7970\n",
            "Epoch 29/100\n",
            "313/313 [==============================] - 25s 81ms/step - loss: 0.4277 - accuracy: 0.8047 - val_loss: 0.4364 - val_accuracy: 0.7942\n",
            "Epoch 30/100\n",
            "313/313 [==============================] - 25s 81ms/step - loss: 0.4256 - accuracy: 0.8058 - val_loss: 0.4364 - val_accuracy: 0.8008\n",
            "Epoch 31/100\n",
            "313/313 [==============================] - 26s 82ms/step - loss: 0.4237 - accuracy: 0.8066 - val_loss: 0.4366 - val_accuracy: 0.8018\n",
            "Epoch 32/100\n",
            "313/313 [==============================] - 26s 82ms/step - loss: 0.4237 - accuracy: 0.8087 - val_loss: 0.4361 - val_accuracy: 0.7936\n",
            "Epoch 33/100\n",
            "313/313 [==============================] - 26s 82ms/step - loss: 0.4212 - accuracy: 0.8068 - val_loss: 0.4333 - val_accuracy: 0.8024\n",
            "Epoch 34/100\n",
            "313/313 [==============================] - 26s 82ms/step - loss: 0.4239 - accuracy: 0.8081 - val_loss: 0.4335 - val_accuracy: 0.7982\n",
            "Epoch 35/100\n",
            "313/313 [==============================] - 26s 82ms/step - loss: 0.4197 - accuracy: 0.8090 - val_loss: 0.4346 - val_accuracy: 0.8030\n",
            "Epoch 36/100\n",
            "313/313 [==============================] - 26s 82ms/step - loss: 0.4219 - accuracy: 0.8069 - val_loss: 0.4337 - val_accuracy: 0.7966\n"
          ]
        }
      ]
    },
    {
      "cell_type": "code",
      "source": [
        "plt.plot(history.history['loss'])\n",
        "plt.plot(history.history['val_loss'])\n",
        "plt.xlabel('epoch')\n",
        "plt.ylabel('loss')\n",
        "plt.legend(['train', 'val'])\n",
        "plt.show()"
      ],
      "metadata": {
        "colab": {
          "base_uri": "https://localhost:8080/",
          "height": 279
        },
        "id": "Dd5ZSY50Ka0s",
        "outputId": "7e4bac8f-febc-4346-9c41-6ec89952aa6b"
      },
      "execution_count": 10,
      "outputs": [
        {
          "output_type": "display_data",
          "data": {
            "image/png": "[encoded data removed]",
            "text/plain": [
              "<Figure size 432x288 with 1 Axes>"
            ]
          },
          "metadata": {
            "needs_background": "light"
          }
        }
      ]
    },
    {
      "cell_type": "code",
      "source": [
        "model4 = keras.Sequential()\n",
        "model4.add(keras.layers.Embedding(500, 16, input_length=100))\n",
        "model4.add(keras.layers.GRU(8))\n",
        "model4.add(keras.layers.Dense(1, activation='sigmoid'))"
      ],
      "metadata": {
        "id": "BG_5qLavOXiH"
      },
      "execution_count": 11,
      "outputs": []
    },
    {
      "cell_type": "code",
      "source": [
        "model4.summary()"
      ],
      "metadata": {
        "colab": {
          "base_uri": "https://localhost:8080/"
        },
        "id": "D6jWgbTFPe48",
        "outputId": "00d2dbc3-92f3-4e3d-e023-8d8e8be49b26"
      },
      "execution_count": 13,
      "outputs": [
        {
          "output_type": "stream",
          "name": "stdout",
          "text": [
            "Model: \"sequential_2\"\n",
            "_________________________________________________________________\n",
            " Layer (type)                Output Shape              Param #   \n",
            "=================================================================\n",
            " embedding_2 (Embedding)     (None, 100, 16)           8000      \n",
            "                                                                 \n",
            " gru (GRU)                   (None, 8)                 624       \n",
            "                                                                 \n",
            " dense_2 (Dense)             (None, 1)                 9         \n",
            "                                                                 \n",
            "=================================================================\n",
            "Total params: 8,633\n",
            "Trainable params: 8,633\n",
            "Non-trainable params: 0\n",
            "_________________________________________________________________\n"
          ]
        }
      ]
    },
    {
      "cell_type": "code",
      "source": [
        "rmsprop = keras.optimizers.RMSprop(learning_rate=1e-4)\n",
        "model4.compile(optimizer=rmsprop, loss='binary_crossentropy', metrics=['accuracy'])\n",
        "checkpoint_cb = keras.callbacks.ModelCheckpoint('best-gru-model.h5')\n",
        "early_stopping_cb = keras.callbacks.EarlyStopping(patience=3, restore_best_weights=True)\n",
        "history = model4.fit(train_seq, train_target, epochs=100, batch_size=64, validation_data=(val_seq, val_target), callbacks=[checkpoint_cb, early_stopping_cb])"
      ],
      "metadata": {
        "colab": {
          "base_uri": "https://localhost:8080/"
        },
        "id": "jSgsIZK2PhK0",
        "outputId": "85fc3b09-a862-496f-cc7e-b9dc02633066"
      },
      "execution_count": 16,
      "outputs": [
        {
          "output_type": "stream",
          "name": "stdout",
          "text": [
            "Epoch 1/100\n",
            "313/313 [==============================] - 18s 52ms/step - loss: 0.6924 - accuracy: 0.5242 - val_loss: 0.6918 - val_accuracy: 0.5432\n",
            "Epoch 2/100\n",
            "313/313 [==============================] - 15s 49ms/step - loss: 0.6905 - accuracy: 0.5720 - val_loss: 0.6899 - val_accuracy: 0.5598\n",
            "Epoch 3/100\n",
            "313/313 [==============================] - 15s 48ms/step - loss: 0.6878 - accuracy: 0.5916 - val_loss: 0.6869 - val_accuracy: 0.5826\n",
            "Epoch 4/100\n",
            "313/313 [==============================] - 15s 47ms/step - loss: 0.6837 - accuracy: 0.6041 - val_loss: 0.6826 - val_accuracy: 0.5906\n",
            "Epoch 5/100\n",
            "313/313 [==============================] - 15s 47ms/step - loss: 0.6777 - accuracy: 0.6130 - val_loss: 0.6763 - val_accuracy: 0.5976\n",
            "Epoch 6/100\n",
            "313/313 [==============================] - 15s 47ms/step - loss: 0.6694 - accuracy: 0.6211 - val_loss: 0.6678 - val_accuracy: 0.6070\n",
            "Epoch 7/100\n",
            "313/313 [==============================] - 15s 47ms/step - loss: 0.6582 - accuracy: 0.6318 - val_loss: 0.6568 - val_accuracy: 0.6164\n",
            "Epoch 8/100\n",
            "313/313 [==============================] - 15s 46ms/step - loss: 0.6436 - accuracy: 0.6440 - val_loss: 0.6419 - val_accuracy: 0.6342\n",
            "Epoch 9/100\n",
            "313/313 [==============================] - 15s 46ms/step - loss: 0.6243 - accuracy: 0.6625 - val_loss: 0.6218 - val_accuracy: 0.6556\n",
            "Epoch 10/100\n",
            "313/313 [==============================] - 14s 46ms/step - loss: 0.5983 - accuracy: 0.6798 - val_loss: 0.5949 - val_accuracy: 0.6836\n",
            "Epoch 11/100\n",
            "313/313 [==============================] - 14s 45ms/step - loss: 0.5598 - accuracy: 0.7090 - val_loss: 0.5533 - val_accuracy: 0.7196\n",
            "Epoch 12/100\n",
            "313/313 [==============================] - 14s 45ms/step - loss: 0.5170 - accuracy: 0.7458 - val_loss: 0.5208 - val_accuracy: 0.7464\n",
            "Epoch 13/100\n",
            "313/313 [==============================] - 14s 46ms/step - loss: 0.4949 - accuracy: 0.7631 - val_loss: 0.5060 - val_accuracy: 0.7558\n",
            "Epoch 14/100\n",
            "313/313 [==============================] - 15s 47ms/step - loss: 0.4821 - accuracy: 0.7713 - val_loss: 0.4937 - val_accuracy: 0.7672\n",
            "Epoch 15/100\n",
            "313/313 [==============================] - 15s 47ms/step - loss: 0.4718 - accuracy: 0.7777 - val_loss: 0.4855 - val_accuracy: 0.7696\n",
            "Epoch 16/100\n",
            "313/313 [==============================] - 26s 84ms/step - loss: 0.4636 - accuracy: 0.7837 - val_loss: 0.4775 - val_accuracy: 0.7750\n",
            "Epoch 17/100\n",
            "313/313 [==============================] - 21s 67ms/step - loss: 0.4564 - accuracy: 0.7904 - val_loss: 0.4709 - val_accuracy: 0.7794\n",
            "Epoch 18/100\n",
            "313/313 [==============================] - 22s 70ms/step - loss: 0.4504 - accuracy: 0.7937 - val_loss: 0.4668 - val_accuracy: 0.7818\n",
            "Epoch 19/100\n",
            "313/313 [==============================] - 18s 59ms/step - loss: 0.4456 - accuracy: 0.7978 - val_loss: 0.4623 - val_accuracy: 0.7796\n",
            "Epoch 20/100\n",
            "313/313 [==============================] - 14s 46ms/step - loss: 0.4411 - accuracy: 0.8005 - val_loss: 0.4593 - val_accuracy: 0.7808\n",
            "Epoch 21/100\n",
            "313/313 [==============================] - 15s 46ms/step - loss: 0.4376 - accuracy: 0.8018 - val_loss: 0.4568 - val_accuracy: 0.7872\n",
            "Epoch 22/100\n",
            "313/313 [==============================] - 15s 48ms/step - loss: 0.4342 - accuracy: 0.8054 - val_loss: 0.4551 - val_accuracy: 0.7838\n",
            "Epoch 23/100\n",
            "313/313 [==============================] - 15s 47ms/step - loss: 0.4321 - accuracy: 0.8051 - val_loss: 0.4530 - val_accuracy: 0.7886\n",
            "Epoch 24/100\n",
            "313/313 [==============================] - 15s 47ms/step - loss: 0.4298 - accuracy: 0.8067 - val_loss: 0.4525 - val_accuracy: 0.7858\n",
            "Epoch 25/100\n",
            "313/313 [==============================] - 15s 47ms/step - loss: 0.4278 - accuracy: 0.8078 - val_loss: 0.4524 - val_accuracy: 0.7860\n",
            "Epoch 26/100\n",
            "313/313 [==============================] - 15s 48ms/step - loss: 0.4261 - accuracy: 0.8091 - val_loss: 0.4502 - val_accuracy: 0.7908\n",
            "Epoch 27/100\n",
            "313/313 [==============================] - 16s 50ms/step - loss: 0.4250 - accuracy: 0.8106 - val_loss: 0.4498 - val_accuracy: 0.7930\n",
            "Epoch 28/100\n",
            "313/313 [==============================] - 15s 47ms/step - loss: 0.4235 - accuracy: 0.8123 - val_loss: 0.4478 - val_accuracy: 0.7898\n",
            "Epoch 29/100\n",
            "313/313 [==============================] - 15s 47ms/step - loss: 0.4224 - accuracy: 0.8126 - val_loss: 0.4465 - val_accuracy: 0.7930\n",
            "Epoch 30/100\n",
            "313/313 [==============================] - 15s 47ms/step - loss: 0.4213 - accuracy: 0.8120 - val_loss: 0.4480 - val_accuracy: 0.7936\n",
            "Epoch 31/100\n",
            "313/313 [==============================] - 15s 47ms/step - loss: 0.4209 - accuracy: 0.8143 - val_loss: 0.4455 - val_accuracy: 0.7924\n",
            "Epoch 32/100\n",
            "313/313 [==============================] - 15s 47ms/step - loss: 0.4198 - accuracy: 0.8132 - val_loss: 0.4455 - val_accuracy: 0.7924\n",
            "Epoch 33/100\n",
            "313/313 [==============================] - 15s 48ms/step - loss: 0.4191 - accuracy: 0.8135 - val_loss: 0.4474 - val_accuracy: 0.7918\n",
            "Epoch 34/100\n",
            "313/313 [==============================] - 15s 47ms/step - loss: 0.4182 - accuracy: 0.8147 - val_loss: 0.4445 - val_accuracy: 0.7932\n",
            "Epoch 35/100\n",
            "313/313 [==============================] - 15s 46ms/step - loss: 0.4174 - accuracy: 0.8141 - val_loss: 0.4464 - val_accuracy: 0.7942\n",
            "Epoch 36/100\n",
            "313/313 [==============================] - 15s 47ms/step - loss: 0.4169 - accuracy: 0.8147 - val_loss: 0.4438 - val_accuracy: 0.7908\n",
            "Epoch 37/100\n",
            "313/313 [==============================] - 15s 46ms/step - loss: 0.4160 - accuracy: 0.8158 - val_loss: 0.4430 - val_accuracy: 0.7950\n",
            "Epoch 38/100\n",
            "313/313 [==============================] - 15s 47ms/step - loss: 0.4155 - accuracy: 0.8145 - val_loss: 0.4441 - val_accuracy: 0.7942\n",
            "Epoch 39/100\n",
            "313/313 [==============================] - 15s 48ms/step - loss: 0.4155 - accuracy: 0.8163 - val_loss: 0.4412 - val_accuracy: 0.7970\n",
            "Epoch 40/100\n",
            "313/313 [==============================] - 15s 47ms/step - loss: 0.4149 - accuracy: 0.8162 - val_loss: 0.4419 - val_accuracy: 0.7920\n",
            "Epoch 41/100\n",
            "313/313 [==============================] - 15s 47ms/step - loss: 0.4146 - accuracy: 0.8162 - val_loss: 0.4453 - val_accuracy: 0.7904\n",
            "Epoch 42/100\n",
            "313/313 [==============================] - 15s 47ms/step - loss: 0.4139 - accuracy: 0.8168 - val_loss: 0.4397 - val_accuracy: 0.7964\n",
            "Epoch 43/100\n",
            "313/313 [==============================] - 15s 48ms/step - loss: 0.4135 - accuracy: 0.8163 - val_loss: 0.4406 - val_accuracy: 0.7968\n",
            "Epoch 44/100\n",
            "313/313 [==============================] - 15s 47ms/step - loss: 0.4133 - accuracy: 0.8167 - val_loss: 0.4404 - val_accuracy: 0.7964\n",
            "Epoch 45/100\n",
            "313/313 [==============================] - 15s 47ms/step - loss: 0.4131 - accuracy: 0.8177 - val_loss: 0.4390 - val_accuracy: 0.7958\n",
            "Epoch 46/100\n",
            "313/313 [==============================] - 15s 47ms/step - loss: 0.4123 - accuracy: 0.8163 - val_loss: 0.4393 - val_accuracy: 0.7984\n",
            "Epoch 47/100\n",
            "313/313 [==============================] - 15s 47ms/step - loss: 0.4123 - accuracy: 0.8163 - val_loss: 0.4393 - val_accuracy: 0.7968\n",
            "Epoch 48/100\n",
            "313/313 [==============================] - 15s 47ms/step - loss: 0.4120 - accuracy: 0.8169 - val_loss: 0.4403 - val_accuracy: 0.7928\n"
          ]
        }
      ]
    },
    {
      "cell_type": "code",
      "source": [
        "plt.plot(history.history['loss'])\n",
        "plt.plot(history.history['val_loss'])\n",
        "plt.xlabel('epoch')\n",
        "plt.ylabel('loss')\n",
        "plt.legend(['train', 'val'])\n",
        "plt.show()"
      ],
      "metadata": {
        "colab": {
          "base_uri": "https://localhost:8080/",
          "height": 279
        },
        "id": "LgVq0PCQQ9O8",
        "outputId": "5d54968a-b749-4c75-85e1-a490ec3c0e14"
      },
      "execution_count": 17,
      "outputs": [
        {
          "output_type": "display_data",
          "data": {
            "image/png": "[encoded data removed]",
            "text/plain": [
              "<Figure size 432x288 with 1 Axes>"
            ]
          },
          "metadata": {
            "needs_background": "light"
          }
        }
      ]
    },
    {
      "cell_type": "code",
      "source": [
        "test_seq = pad_sequences(test_input, maxlen=100)\n",
        "rnn_model = keras.models.load_model('best-2rnn-model.h5')\n",
        "rnn_model.evaluate(test_seq, test_target)"
      ],
      "metadata": {
        "colab": {
          "base_uri": "https://localhost:8080/"
        },
        "id": "dIAq3TKkVKa4",
        "outputId": "fc179567-46d1-41fa-955b-89167a2bf08d"
      },
      "execution_count": 19,
      "outputs": [
        {
          "output_type": "stream",
          "name": "stdout",
          "text": [
            "782/782 [==============================] - 12s 14ms/step - loss: 0.4287 - accuracy: 0.8012\n"
          ]
        },
        {
          "output_type": "execute_result",
          "data": {
            "text/plain": [
              "[0.42867764830589294, 0.8011999726295471]"
            ]
          },
          "metadata": {},
          "execution_count": 19
        }
      ]
    }
  ]
}