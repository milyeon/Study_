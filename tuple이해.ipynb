{
  "nbformat": 4,
  "nbformat_minor": 0,
  "metadata": {
    "colab": {
      "name": "tuple이해.ipynb",
      "provenance": [],
      "authorship_tag": "ABX9TyOEb26lKzWBcPQYVR9fVQx5",
      "include_colab_link": true
    },
    "kernelspec": {
      "name": "python3",
      "display_name": "Python 3"
    },
    "language_info": {
      "name": "python"
    }
  },
  "cells": [
    {
      "cell_type": "markdown",
      "metadata": {
        "id": "view-in-github",
        "colab_type": "text"
      },
      "source": [
        "<a href=\"https://colab.research.google.com/github/milyeon/Study_/blob/main/tuple%EC%9D%B4%ED%95%B4.ipynb\" target=\"_parent\"><img src=\"https://colab.research.google.com/assets/colab-badge.svg\" alt=\"Open In Colab\"/></a>"
      ]
    },
    {
      "cell_type": "code",
      "execution_count": 7,
      "metadata": {
        "colab": {
          "base_uri": "https://localhost:8080/"
        },
        "id": "AwoHd7JaWVYc",
        "outputId": "64b50d0a-bfdc-4cfa-a326-79d1c5f1e144"
      },
      "outputs": [
        {
          "output_type": "stream",
          "name": "stdout",
          "text": [
            "(10, 20)\n",
            "20 10\n"
          ]
        }
      ],
      "source": [
        "c=10\n",
        "d=20\n",
        "a=(c,d)\n",
        "b=(d,c)\n",
        "print((c,d))\n",
        "\n",
        "(c,d)=(d,c)\n",
        "print(c,d)"
      ]
    },
    {
      "cell_type": "code",
      "source": [
        "print((c,d))"
      ],
      "metadata": {
        "colab": {
          "base_uri": "https://localhost:8080/"
        },
        "id": "_kAy4Ic6WhSq",
        "outputId": "504a4e80-0205-4ce2-e5d9-f33030056c04"
      },
      "execution_count": 8,
      "outputs": [
        {
          "output_type": "stream",
          "name": "stdout",
          "text": [
            "(20, 10)\n"
          ]
        }
      ]
    },
    {
      "cell_type": "code",
      "source": [
        "print(a)\n",
        "print(b)\n"
      ],
      "metadata": {
        "colab": {
          "base_uri": "https://localhost:8080/"
        },
        "id": "BI_rQEMfWj2m",
        "outputId": "233a79b9-52e4-432c-ea79-b118207e2af2"
      },
      "execution_count": 9,
      "outputs": [
        {
          "output_type": "stream",
          "name": "stdout",
          "text": [
            "(10, 20)\n",
            "(20, 10)\n"
          ]
        }
      ]
    },
    {
      "cell_type": "code",
      "source": [
        ""
      ],
      "metadata": {
        "id": "MhsWBRBNWwE-"
      },
      "execution_count": null,
      "outputs": []
    }
  ]
}