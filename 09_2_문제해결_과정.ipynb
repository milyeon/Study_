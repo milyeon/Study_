{
  "nbformat": 4,
  "nbformat_minor": 0,
  "metadata": {
    "colab": {
      "name": "09_2_문제해결_과정.ipynb",
      "provenance": [],
      "authorship_tag": "ABX9TyP85qsOQJ5t85/Kd3KtP0dc",
      "include_colab_link": true
    },
    "kernelspec": {
      "name": "python3",
      "display_name": "Python 3"
    },
    "language_info": {
      "name": "python"
    }
  },
  "cells": [
    {
      "cell_type": "markdown",
      "metadata": {
        "id": "view-in-github",
        "colab_type": "text"
      },
      "source": [
        "<a href=\"https://colab.research.google.com/github/milyeon/Study_/blob/main/09_2_%EB%AC%B8%EC%A0%9C%ED%95%B4%EA%B2%B0_%EA%B3%BC%EC%A0%95.ipynb\" target=\"_parent\"><img src=\"https://colab.research.google.com/assets/colab-badge.svg\" alt=\"Open In Colab\"/></a>"
      ]
    },
    {
      "cell_type": "code",
      "execution_count": 1,
      "metadata": {
        "colab": {
          "base_uri": "https://localhost:8080/"
        },
        "id": "OP7i_ZDe3igJ",
        "outputId": "f91b449f-815a-4708-f1d5-7424f566a41e"
      },
      "outputs": [
        {
          "output_type": "stream",
          "name": "stdout",
          "text": [
            "Downloading data from https://storage.googleapis.com/tensorflow/tf-keras-datasets/imdb.npz\n",
            "17465344/17464789 [==============================] - 0s 0us/step\n",
            "17473536/17464789 [==============================] - 0s 0us/step\n"
          ]
        }
      ],
      "source": [
        "from tensorflow.keras.datasets import imdb\n",
        "(train_input, train_target), (test_input, test_target) = imdb.load_data(num_words=500)"
      ]
    },
    {
      "cell_type": "code",
      "source": [
        "print(train_input.shape, test_input.shape)"
      ],
      "metadata": {
        "colab": {
          "base_uri": "https://localhost:8080/"
        },
        "id": "C7-uexokAgVY",
        "outputId": "5795faa2-5a2f-4e65-df91-81cb99317910"
      },
      "execution_count": 2,
      "outputs": [
        {
          "output_type": "stream",
          "name": "stdout",
          "text": [
            "(25000,) (25000,)\n"
          ]
        }
      ]
    },
    {
      "cell_type": "code",
      "source": [
        "print(len(train_input[0]))"
      ],
      "metadata": {
        "colab": {
          "base_uri": "https://localhost:8080/"
        },
        "id": "o-sXDN8BAn6f",
        "outputId": "243f6e83-2dc5-4e60-d308-301c745d0d04"
      },
      "execution_count": 3,
      "outputs": [
        {
          "output_type": "stream",
          "name": "stdout",
          "text": [
            "218\n"
          ]
        }
      ]
    },
    {
      "cell_type": "code",
      "source": [
        "print(len(train_input[1]))"
      ],
      "metadata": {
        "colab": {
          "base_uri": "https://localhost:8080/"
        },
        "id": "hPcvqgS5AvsR",
        "outputId": "1235f668-6e61-4bad-c7e1-febb53941a05"
      },
      "execution_count": 4,
      "outputs": [
        {
          "output_type": "stream",
          "name": "stdout",
          "text": [
            "189\n"
          ]
        }
      ]
    },
    {
      "cell_type": "code",
      "source": [
        "print(train_input[0])"
      ],
      "metadata": {
        "colab": {
          "base_uri": "https://localhost:8080/"
        },
        "id": "AEe1IVQiAyHQ",
        "outputId": "d80911ae-d55c-4f17-8efa-5dc9f02c0d55"
      },
      "execution_count": 5,
      "outputs": [
        {
          "output_type": "stream",
          "name": "stdout",
          "text": [
            "[1, 14, 22, 16, 43, 2, 2, 2, 2, 65, 458, 2, 66, 2, 4, 173, 36, 256, 5, 25, 100, 43, 2, 112, 50, 2, 2, 9, 35, 480, 284, 5, 150, 4, 172, 112, 167, 2, 336, 385, 39, 4, 172, 2, 2, 17, 2, 38, 13, 447, 4, 192, 50, 16, 6, 147, 2, 19, 14, 22, 4, 2, 2, 469, 4, 22, 71, 87, 12, 16, 43, 2, 38, 76, 15, 13, 2, 4, 22, 17, 2, 17, 12, 16, 2, 18, 2, 5, 62, 386, 12, 8, 316, 8, 106, 5, 4, 2, 2, 16, 480, 66, 2, 33, 4, 130, 12, 16, 38, 2, 5, 25, 124, 51, 36, 135, 48, 25, 2, 33, 6, 22, 12, 215, 28, 77, 52, 5, 14, 407, 16, 82, 2, 8, 4, 107, 117, 2, 15, 256, 4, 2, 7, 2, 5, 2, 36, 71, 43, 2, 476, 26, 400, 317, 46, 7, 4, 2, 2, 13, 104, 88, 4, 381, 15, 297, 98, 32, 2, 56, 26, 141, 6, 194, 2, 18, 4, 226, 22, 21, 134, 476, 26, 480, 5, 144, 30, 2, 18, 51, 36, 28, 224, 92, 25, 104, 4, 226, 65, 16, 38, 2, 88, 12, 16, 283, 5, 16, 2, 113, 103, 32, 15, 16, 2, 19, 178, 32]\n"
          ]
        }
      ]
    },
    {
      "cell_type": "code",
      "source": [
        "print(train_target[:20])"
      ],
      "metadata": {
        "colab": {
          "base_uri": "https://localhost:8080/"
        },
        "id": "vRZFyBovA3VQ",
        "outputId": "65c5aa5d-7578-4289-f5ab-568c7e0c4b8e"
      },
      "execution_count": 6,
      "outputs": [
        {
          "output_type": "stream",
          "name": "stdout",
          "text": [
            "[1 0 0 1 0 0 1 0 1 0 1 0 0 0 0 0 1 1 0 1]\n"
          ]
        }
      ]
    },
    {
      "cell_type": "code",
      "source": [
        "from sklearn.model_selection import train_test_split\n",
        "train_input, val_input, train_target, val_target = train_test_split(train_input, train_target, test_size=0.2, random_state=42)"
      ],
      "metadata": {
        "id": "KGk9H_ZwBC3O"
      },
      "execution_count": 7,
      "outputs": []
    },
    {
      "cell_type": "code",
      "source": [
        "import numpy as np\n",
        "lengths = np.array([len(x) for x in train_input])"
      ],
      "metadata": {
        "id": "mgPU_AR5BlJV"
      },
      "execution_count": 8,
      "outputs": []
    },
    {
      "cell_type": "code",
      "source": [
        "print(np.mean(lengths), np.median(lengths))"
      ],
      "metadata": {
        "colab": {
          "base_uri": "https://localhost:8080/"
        },
        "id": "BCIi2RAJBvZ_",
        "outputId": "6f8f226b-aa4b-4887-c28b-443905ac4eb4"
      },
      "execution_count": 9,
      "outputs": [
        {
          "output_type": "stream",
          "name": "stdout",
          "text": [
            "239.00925 178.0\n"
          ]
        }
      ]
    },
    {
      "cell_type": "code",
      "source": [
        "import matplotlib.pyplot as plt\n",
        "plt.hist(lengths)\n",
        "plt.xlabel('length')\n",
        "plt.ylabel('frequency')\n",
        "plt.show()"
      ],
      "metadata": {
        "colab": {
          "base_uri": "https://localhost:8080/",
          "height": 279
        },
        "id": "fo_KdB5qB0j3",
        "outputId": "60907f87-b749-4824-ccac-764ebf58d386"
      },
      "execution_count": 10,
      "outputs": [
        {
          "output_type": "display_data",
          "data": {
            "image/png": "[encoded data removed]",
            "text/plain": [
              "<Figure size 432x288 with 1 Axes>"
            ]
          },
          "metadata": {
            "needs_background": "light"
          }
        }
      ]
    },
    {
      "cell_type": "code",
      "source": [
        "from tensorflow.keras.preprocessing.sequence import pad_sequences\n",
        "train_seq = pad_sequences(train_input, maxlen=100)"
      ],
      "metadata": {
        "id": "2RAGPWzJCBvr"
      },
      "execution_count": 11,
      "outputs": []
    },
    {
      "cell_type": "code",
      "source": [
        "print(train_seq.shape)"
      ],
      "metadata": {
        "colab": {
          "base_uri": "https://localhost:8080/"
        },
        "id": "frPwHHqQCepi",
        "outputId": "89ecdda6-be12-416d-a367-8b57a5004959"
      },
      "execution_count": 12,
      "outputs": [
        {
          "output_type": "stream",
          "name": "stdout",
          "text": [
            "(20000, 100)\n"
          ]
        }
      ]
    },
    {
      "cell_type": "code",
      "source": [
        "print(train_seq[0])"
      ],
      "metadata": {
        "colab": {
          "base_uri": "https://localhost:8080/"
        },
        "id": "Rp9uV-FbCmVm",
        "outputId": "4db9db0e-cb41-4dfc-cd46-cf08aeb40867"
      },
      "execution_count": 13,
      "outputs": [
        {
          "output_type": "stream",
          "name": "stdout",
          "text": [
            "[ 10   4  20   9   2 364 352   5  45   6   2   2  33 269   8   2 142   2\n",
            "   5   2  17  73  17 204   5   2  19  55   2   2  92  66 104  14  20  93\n",
            "  76   2 151  33   4  58  12 188   2 151  12 215  69 224 142  73 237   6\n",
            "   2   7   2   2 188   2 103  14  31  10  10 451   7   2   5   2  80  91\n",
            "   2  30   2  34  14  20 151  50  26 131  49   2  84  46  50  37  80  79\n",
            "   6   2  46   7  14  20  10  10 470 158]\n"
          ]
        }
      ]
    },
    {
      "cell_type": "code",
      "source": [
        "print(train_input[0][-10:])"
      ],
      "metadata": {
        "colab": {
          "base_uri": "https://localhost:8080/"
        },
        "id": "UFpUmDYFCpZb",
        "outputId": "2568148a-97f8-4eef-8aa6-8ad466b22933"
      },
      "execution_count": 14,
      "outputs": [
        {
          "output_type": "stream",
          "name": "stdout",
          "text": [
            "[6, 2, 46, 7, 14, 20, 10, 10, 470, 158]\n"
          ]
        }
      ]
    },
    {
      "cell_type": "code",
      "source": [
        "print(train_seq[5])"
      ],
      "metadata": {
        "colab": {
          "base_uri": "https://localhost:8080/"
        },
        "id": "cO1lrdP3Cvv4",
        "outputId": "dab6aeb7-396e-4e42-d978-6cb0df7912f5"
      },
      "execution_count": 15,
      "outputs": [
        {
          "output_type": "stream",
          "name": "stdout",
          "text": [
            "[  0   0   0   0   1   2 195  19  49   2   2 190   4   2 352   2 183  10\n",
            "  10  13  82  79   4   2  36  71 269   8   2  25  19  49   7   4   2   2\n",
            "   2   2   2  10  10  48  25  40   2  11   2   2  40   2   2   5   4   2\n",
            "   2  95  14 238  56 129   2  10  10  21   2  94 364 352   2   2  11 190\n",
            "  24 484   2   7  94 205 405  10  10  87   2  34  49   2   7   2   2   2\n",
            "   2   2 290   2  46  48  64  18   4   2]\n"
          ]
        }
      ]
    },
    {
      "cell_type": "code",
      "source": [
        "val_seq = pad_sequences(val_input, maxlen=100)"
      ],
      "metadata": {
        "id": "ac8ymDrlC3lh"
      },
      "execution_count": 16,
      "outputs": []
    },
    {
      "cell_type": "code",
      "source": [
        "from tensorflow import keras\n",
        "model = keras.Sequential()\n",
        "model.add(keras.layers.SimpleRNN(8, input_shape=(100, 500)))\n",
        "model.add(keras.layers.Dense(1, activation='sigmoid'))"
      ],
      "metadata": {
        "id": "LFqtE6JLDB7U"
      },
      "execution_count": 17,
      "outputs": []
    },
    {
      "cell_type": "code",
      "source": [
        "train_oh = keras.utils.to_categorical(train_seq)"
      ],
      "metadata": {
        "id": "kClSCH1ADg0D"
      },
      "execution_count": 18,
      "outputs": []
    },
    {
      "cell_type": "code",
      "source": [
        "print(train_oh.shape)"
      ],
      "metadata": {
        "colab": {
          "base_uri": "https://localhost:8080/"
        },
        "id": "ot9kmjUQPS9l",
        "outputId": "a4c5f111-c4b2-44fd-ed2e-6c5a8c292f95"
      },
      "execution_count": 19,
      "outputs": [
        {
          "output_type": "stream",
          "name": "stdout",
          "text": [
            "(20000, 100, 500)\n"
          ]
        }
      ]
    },
    {
      "cell_type": "code",
      "source": [
        "print(train_oh[0][0][:12])"
      ],
      "metadata": {
        "colab": {
          "base_uri": "https://localhost:8080/"
        },
        "id": "0yWWpDguPY3t",
        "outputId": "b1a9226a-6a43-41e9-c38f-a7132c851744"
      },
      "execution_count": 20,
      "outputs": [
        {
          "output_type": "stream",
          "name": "stdout",
          "text": [
            "[0. 0. 0. 0. 0. 0. 0. 0. 0. 0. 1. 0.]\n"
          ]
        }
      ]
    },
    {
      "cell_type": "code",
      "source": [
        "print(np.sum(train_oh[0][0]))"
      ],
      "metadata": {
        "colab": {
          "base_uri": "https://localhost:8080/"
        },
        "id": "o3urpg4NPm96",
        "outputId": "2ab0b3b7-7e57-4728-8e15-1e6e7ad5eb51"
      },
      "execution_count": 21,
      "outputs": [
        {
          "output_type": "stream",
          "name": "stdout",
          "text": [
            "1.0\n"
          ]
        }
      ]
    },
    {
      "cell_type": "code",
      "source": [
        "val_oh = keras.utils.to_categorical(val_seq)"
      ],
      "metadata": {
        "id": "ZEgeKGBZPtxO"
      },
      "execution_count": 22,
      "outputs": []
    },
    {
      "cell_type": "code",
      "source": [
        "model.summary()"
      ],
      "metadata": {
        "colab": {
          "base_uri": "https://localhost:8080/"
        },
        "id": "k-DQMSWrP1DZ",
        "outputId": "6858bff6-f205-495c-cac7-ce87e60fb75f"
      },
      "execution_count": 23,
      "outputs": [
        {
          "output_type": "stream",
          "name": "stdout",
          "text": [
            "Model: \"sequential\"\n",
            "_________________________________________________________________\n",
            " Layer (type)                Output Shape              Param #   \n",
            "=================================================================\n",
            " simple_rnn (SimpleRNN)      (None, 8)                 4072      \n",
            "                                                                 \n",
            " dense (Dense)               (None, 1)                 9         \n",
            "                                                                 \n",
            "=================================================================\n",
            "Total params: 4,081\n",
            "Trainable params: 4,081\n",
            "Non-trainable params: 0\n",
            "_________________________________________________________________\n"
          ]
        }
      ]
    },
    {
      "cell_type": "code",
      "source": [
        "rmsprop = keras.optimizers.RMSprop(learning_rate=1e-4)\n",
        "model.compile(optimizer=rmsprop, loss='binary_crossentropy', metrics=['accuracy'])\n",
        "checkpoint_cb = keras.callbacks.ModelCheckpoint('best-simplernn-model.h5')\n",
        "early_stopping_cb = keras.callbacks.EarlyStopping(patience=3, restore_best_weights=True)\n",
        "history = model.fit(train_oh, train_target, epochs=100, batch_size=64, validation_data=(val_oh, val_target), callbacks=[checkpoint_cb, early_stopping_cb])"
      ],
      "metadata": {
        "colab": {
          "base_uri": "https://localhost:8080/"
        },
        "id": "RxdoT07kQC-H",
        "outputId": "4436e8ad-6b15-42f2-ba35-e664ecb5f6df"
      },
      "execution_count": 24,
      "outputs": [
        {
          "output_type": "stream",
          "name": "stdout",
          "text": [
            "Epoch 1/100\n",
            "313/313 [==============================] - 15s 44ms/step - loss: 0.6987 - accuracy: 0.4949 - val_loss: 0.6964 - val_accuracy: 0.4960\n",
            "Epoch 2/100\n",
            "313/313 [==============================] - 13s 43ms/step - loss: 0.6949 - accuracy: 0.5078 - val_loss: 0.6944 - val_accuracy: 0.5024\n",
            "Epoch 3/100\n",
            "313/313 [==============================] - 13s 43ms/step - loss: 0.6926 - accuracy: 0.5171 - val_loss: 0.6931 - val_accuracy: 0.5130\n",
            "Epoch 4/100\n",
            "313/313 [==============================] - 13s 43ms/step - loss: 0.6908 - accuracy: 0.5260 - val_loss: 0.6921 - val_accuracy: 0.5200\n",
            "Epoch 5/100\n",
            "313/313 [==============================] - 13s 43ms/step - loss: 0.6893 - accuracy: 0.5353 - val_loss: 0.6911 - val_accuracy: 0.5246\n",
            "Epoch 6/100\n",
            "313/313 [==============================] - 15s 47ms/step - loss: 0.6878 - accuracy: 0.5422 - val_loss: 0.6901 - val_accuracy: 0.5294\n",
            "Epoch 7/100\n",
            "313/313 [==============================] - 14s 43ms/step - loss: 0.6863 - accuracy: 0.5515 - val_loss: 0.6892 - val_accuracy: 0.5354\n",
            "Epoch 8/100\n",
            "313/313 [==============================] - 14s 43ms/step - loss: 0.6847 - accuracy: 0.5578 - val_loss: 0.6882 - val_accuracy: 0.5432\n",
            "Epoch 9/100\n",
            "313/313 [==============================] - 14s 43ms/step - loss: 0.6830 - accuracy: 0.5657 - val_loss: 0.6871 - val_accuracy: 0.5470\n",
            "Epoch 10/100\n",
            "313/313 [==============================] - 14s 44ms/step - loss: 0.6811 - accuracy: 0.5723 - val_loss: 0.6858 - val_accuracy: 0.5536\n",
            "Epoch 11/100\n",
            "313/313 [==============================] - 13s 43ms/step - loss: 0.6791 - accuracy: 0.5803 - val_loss: 0.6846 - val_accuracy: 0.5598\n",
            "Epoch 12/100\n",
            "313/313 [==============================] - 14s 43ms/step - loss: 0.6768 - accuracy: 0.5859 - val_loss: 0.6831 - val_accuracy: 0.5672\n",
            "Epoch 13/100\n",
            "313/313 [==============================] - 13s 43ms/step - loss: 0.6744 - accuracy: 0.5939 - val_loss: 0.6812 - val_accuracy: 0.5708\n",
            "Epoch 14/100\n",
            "313/313 [==============================] - 14s 43ms/step - loss: 0.6716 - accuracy: 0.6001 - val_loss: 0.6791 - val_accuracy: 0.5748\n",
            "Epoch 15/100\n",
            "313/313 [==============================] - 14s 43ms/step - loss: 0.6684 - accuracy: 0.6058 - val_loss: 0.6766 - val_accuracy: 0.5794\n",
            "Epoch 16/100\n",
            "313/313 [==============================] - 13s 43ms/step - loss: 0.6646 - accuracy: 0.6127 - val_loss: 0.6730 - val_accuracy: 0.5880\n",
            "Epoch 17/100\n",
            "313/313 [==============================] - 13s 43ms/step - loss: 0.6597 - accuracy: 0.6229 - val_loss: 0.6657 - val_accuracy: 0.6110\n",
            "Epoch 18/100\n",
            "313/313 [==============================] - 14s 43ms/step - loss: 0.6414 - accuracy: 0.6550 - val_loss: 0.6282 - val_accuracy: 0.6728\n",
            "Epoch 19/100\n",
            "313/313 [==============================] - 13s 43ms/step - loss: 0.6128 - accuracy: 0.6909 - val_loss: 0.6153 - val_accuracy: 0.6864\n",
            "Epoch 20/100\n",
            "313/313 [==============================] - 13s 43ms/step - loss: 0.5993 - accuracy: 0.7013 - val_loss: 0.6014 - val_accuracy: 0.7004\n",
            "Epoch 21/100\n",
            "313/313 [==============================] - 13s 43ms/step - loss: 0.5877 - accuracy: 0.7097 - val_loss: 0.5939 - val_accuracy: 0.7028\n",
            "Epoch 22/100\n",
            "313/313 [==============================] - 14s 43ms/step - loss: 0.5759 - accuracy: 0.7206 - val_loss: 0.5830 - val_accuracy: 0.7100\n",
            "Epoch 23/100\n",
            "313/313 [==============================] - 14s 44ms/step - loss: 0.5659 - accuracy: 0.7259 - val_loss: 0.5741 - val_accuracy: 0.7186\n",
            "Epoch 24/100\n",
            "313/313 [==============================] - 14s 43ms/step - loss: 0.5566 - accuracy: 0.7358 - val_loss: 0.5695 - val_accuracy: 0.7172\n",
            "Epoch 25/100\n",
            "313/313 [==============================] - 14s 43ms/step - loss: 0.5490 - accuracy: 0.7393 - val_loss: 0.5590 - val_accuracy: 0.7318\n",
            "Epoch 26/100\n",
            "313/313 [==============================] - 14s 44ms/step - loss: 0.5400 - accuracy: 0.7454 - val_loss: 0.5572 - val_accuracy: 0.7258\n",
            "Epoch 27/100\n",
            "313/313 [==============================] - 14s 43ms/step - loss: 0.5323 - accuracy: 0.7523 - val_loss: 0.5503 - val_accuracy: 0.7338\n",
            "Epoch 28/100\n",
            "313/313 [==============================] - 13s 43ms/step - loss: 0.5251 - accuracy: 0.7566 - val_loss: 0.5438 - val_accuracy: 0.7388\n",
            "Epoch 29/100\n",
            "313/313 [==============================] - 13s 43ms/step - loss: 0.5198 - accuracy: 0.7608 - val_loss: 0.5356 - val_accuracy: 0.7490\n",
            "Epoch 30/100\n",
            "313/313 [==============================] - 13s 43ms/step - loss: 0.5119 - accuracy: 0.7647 - val_loss: 0.5303 - val_accuracy: 0.7508\n",
            "Epoch 31/100\n",
            "313/313 [==============================] - 14s 43ms/step - loss: 0.5071 - accuracy: 0.7674 - val_loss: 0.5276 - val_accuracy: 0.7480\n",
            "Epoch 32/100\n",
            "313/313 [==============================] - 14s 43ms/step - loss: 0.5023 - accuracy: 0.7714 - val_loss: 0.5213 - val_accuracy: 0.7564\n",
            "Epoch 33/100\n",
            "313/313 [==============================] - 13s 43ms/step - loss: 0.4958 - accuracy: 0.7750 - val_loss: 0.5175 - val_accuracy: 0.7616\n",
            "Epoch 34/100\n",
            "313/313 [==============================] - 14s 44ms/step - loss: 0.4901 - accuracy: 0.7789 - val_loss: 0.5227 - val_accuracy: 0.7516\n",
            "Epoch 35/100\n",
            "313/313 [==============================] - 14s 44ms/step - loss: 0.4860 - accuracy: 0.7800 - val_loss: 0.5105 - val_accuracy: 0.7644\n",
            "Epoch 36/100\n",
            "313/313 [==============================] - 14s 44ms/step - loss: 0.4809 - accuracy: 0.7838 - val_loss: 0.5080 - val_accuracy: 0.7658\n",
            "Epoch 37/100\n",
            "313/313 [==============================] - 14s 43ms/step - loss: 0.4753 - accuracy: 0.7886 - val_loss: 0.5070 - val_accuracy: 0.7622\n",
            "Epoch 38/100\n",
            "313/313 [==============================] - 14s 43ms/step - loss: 0.4725 - accuracy: 0.7912 - val_loss: 0.5032 - val_accuracy: 0.7678\n",
            "Epoch 39/100\n",
            "313/313 [==============================] - 13s 43ms/step - loss: 0.4681 - accuracy: 0.7933 - val_loss: 0.5011 - val_accuracy: 0.7692\n",
            "Epoch 40/100\n",
            "313/313 [==============================] - 14s 44ms/step - loss: 0.4642 - accuracy: 0.7963 - val_loss: 0.4977 - val_accuracy: 0.7706\n",
            "Epoch 41/100\n",
            "313/313 [==============================] - 15s 47ms/step - loss: 0.4613 - accuracy: 0.7977 - val_loss: 0.4961 - val_accuracy: 0.7720\n",
            "Epoch 42/100\n",
            "313/313 [==============================] - 23s 72ms/step - loss: 0.4579 - accuracy: 0.7993 - val_loss: 0.4944 - val_accuracy: 0.7724\n",
            "Epoch 43/100\n",
            "313/313 [==============================] - 13s 43ms/step - loss: 0.4543 - accuracy: 0.8007 - val_loss: 0.4924 - val_accuracy: 0.7736\n",
            "Epoch 44/100\n",
            "313/313 [==============================] - 14s 43ms/step - loss: 0.4513 - accuracy: 0.8035 - val_loss: 0.4916 - val_accuracy: 0.7738\n",
            "Epoch 45/100\n",
            "313/313 [==============================] - 13s 43ms/step - loss: 0.4489 - accuracy: 0.8036 - val_loss: 0.4888 - val_accuracy: 0.7746\n",
            "Epoch 46/100\n",
            "313/313 [==============================] - 14s 43ms/step - loss: 0.4459 - accuracy: 0.8049 - val_loss: 0.4868 - val_accuracy: 0.7762\n",
            "Epoch 47/100\n",
            "313/313 [==============================] - 14s 43ms/step - loss: 0.4435 - accuracy: 0.8067 - val_loss: 0.4857 - val_accuracy: 0.7742\n",
            "Epoch 48/100\n",
            "313/313 [==============================] - 13s 43ms/step - loss: 0.4404 - accuracy: 0.8076 - val_loss: 0.4838 - val_accuracy: 0.7764\n",
            "Epoch 49/100\n",
            "313/313 [==============================] - 14s 44ms/step - loss: 0.4385 - accuracy: 0.8098 - val_loss: 0.4841 - val_accuracy: 0.7760\n",
            "Epoch 50/100\n",
            "313/313 [==============================] - 13s 43ms/step - loss: 0.4359 - accuracy: 0.8112 - val_loss: 0.4830 - val_accuracy: 0.7776\n",
            "Epoch 51/100\n",
            "313/313 [==============================] - 13s 43ms/step - loss: 0.4344 - accuracy: 0.8107 - val_loss: 0.4828 - val_accuracy: 0.7750\n",
            "Epoch 52/100\n",
            "313/313 [==============================] - 14s 45ms/step - loss: 0.4322 - accuracy: 0.8134 - val_loss: 0.4793 - val_accuracy: 0.7780\n",
            "Epoch 53/100\n",
            "313/313 [==============================] - 13s 43ms/step - loss: 0.4307 - accuracy: 0.8141 - val_loss: 0.4799 - val_accuracy: 0.7758\n",
            "Epoch 54/100\n",
            "313/313 [==============================] - 13s 43ms/step - loss: 0.4291 - accuracy: 0.8146 - val_loss: 0.4794 - val_accuracy: 0.7772\n",
            "Epoch 55/100\n",
            "313/313 [==============================] - 14s 43ms/step - loss: 0.4271 - accuracy: 0.8158 - val_loss: 0.4787 - val_accuracy: 0.7790\n",
            "Epoch 56/100\n",
            "313/313 [==============================] - 14s 43ms/step - loss: 0.4255 - accuracy: 0.8170 - val_loss: 0.4791 - val_accuracy: 0.7784\n",
            "Epoch 57/100\n",
            "313/313 [==============================] - 13s 43ms/step - loss: 0.4238 - accuracy: 0.8177 - val_loss: 0.4798 - val_accuracy: 0.7770\n",
            "Epoch 58/100\n",
            "313/313 [==============================] - 13s 43ms/step - loss: 0.4218 - accuracy: 0.8188 - val_loss: 0.4754 - val_accuracy: 0.7822\n",
            "Epoch 59/100\n",
            "313/313 [==============================] - 14s 43ms/step - loss: 0.4209 - accuracy: 0.8192 - val_loss: 0.4748 - val_accuracy: 0.7808\n",
            "Epoch 60/100\n",
            "313/313 [==============================] - 13s 42ms/step - loss: 0.4196 - accuracy: 0.8196 - val_loss: 0.4748 - val_accuracy: 0.7802\n",
            "Epoch 61/100\n",
            "313/313 [==============================] - 13s 43ms/step - loss: 0.4183 - accuracy: 0.8219 - val_loss: 0.4753 - val_accuracy: 0.7824\n",
            "Epoch 62/100\n",
            "313/313 [==============================] - 13s 43ms/step - loss: 0.4166 - accuracy: 0.8223 - val_loss: 0.4727 - val_accuracy: 0.7816\n",
            "Epoch 63/100\n",
            "313/313 [==============================] - 13s 42ms/step - loss: 0.4152 - accuracy: 0.8248 - val_loss: 0.4721 - val_accuracy: 0.7816\n",
            "Epoch 64/100\n",
            "313/313 [==============================] - 13s 42ms/step - loss: 0.4139 - accuracy: 0.8223 - val_loss: 0.4712 - val_accuracy: 0.7850\n",
            "Epoch 65/100\n",
            "313/313 [==============================] - 13s 42ms/step - loss: 0.4124 - accuracy: 0.8258 - val_loss: 0.4753 - val_accuracy: 0.7840\n",
            "Epoch 66/100\n",
            "313/313 [==============================] - 13s 43ms/step - loss: 0.4112 - accuracy: 0.8260 - val_loss: 0.4727 - val_accuracy: 0.7852\n",
            "Epoch 67/100\n",
            "313/313 [==============================] - 13s 42ms/step - loss: 0.4098 - accuracy: 0.8253 - val_loss: 0.4761 - val_accuracy: 0.7804\n"
          ]
        }
      ]
    },
    {
      "cell_type": "code",
      "source": [
        "plt.plot(history.history['loss'])\n",
        "plt.plot(history.history['val_loss'])\n",
        "plt.xlabel('epoch')\n",
        "plt.ylabel('loss')\n",
        "plt.legend(['train', 'val'])\n",
        "plt.show()"
      ],
      "metadata": {
        "colab": {
          "base_uri": "https://localhost:8080/",
          "height": 279
        },
        "id": "NE_haOvbRTtN",
        "outputId": "36375e06-edac-4d31-fe26-8292a637eba2"
      },
      "execution_count": 25,
      "outputs": [
        {
          "output_type": "display_data",
          "data": {
            "image/png": "[encoded data removed]",
            "text/plain": [
              "<Figure size 432x288 with 1 Axes>"
            ]
          },
          "metadata": {
            "needs_background": "light"
          }
        }
      ]
    },
    {
      "cell_type": "code",
      "source": [
        "print(train_seq.nbytes, train_oh.nbytes)"
      ],
      "metadata": {
        "colab": {
          "base_uri": "https://localhost:8080/"
        },
        "id": "9lmAnsMYYsoC",
        "outputId": "503d4d7b-d844-463c-9832-83536e89f57e"
      },
      "execution_count": 26,
      "outputs": [
        {
          "output_type": "stream",
          "name": "stdout",
          "text": [
            "8000000 4000000000\n"
          ]
        }
      ]
    },
    {
      "cell_type": "code",
      "source": [
        "model2 = keras.Sequential()\n",
        "model2.add(keras.layers.Embedding(500, 16, input_length=100))\n",
        "model2.add(keras.layers.SimpleRNN(8))\n",
        "model2.add(keras.layers.Dense(1, activation='sigmoid'))"
      ],
      "metadata": {
        "id": "3T5Zp8MQZAaq"
      },
      "execution_count": 27,
      "outputs": []
    },
    {
      "cell_type": "code",
      "source": [
        "model2.summary()"
      ],
      "metadata": {
        "colab": {
          "base_uri": "https://localhost:8080/"
        },
        "id": "HP0Ge-RZZpsr",
        "outputId": "ea70bf61-874b-49ef-87aa-f5ef0727698a"
      },
      "execution_count": 28,
      "outputs": [
        {
          "output_type": "stream",
          "name": "stdout",
          "text": [
            "Model: \"sequential_1\"\n",
            "_________________________________________________________________\n",
            " Layer (type)                Output Shape              Param #   \n",
            "=================================================================\n",
            " embedding (Embedding)       (None, 100, 16)           8000      \n",
            "                                                                 \n",
            " simple_rnn_1 (SimpleRNN)    (None, 8)                 200       \n",
            "                                                                 \n",
            " dense_1 (Dense)             (None, 1)                 9         \n",
            "                                                                 \n",
            "=================================================================\n",
            "Total params: 8,209\n",
            "Trainable params: 8,209\n",
            "Non-trainable params: 0\n",
            "_________________________________________________________________\n"
          ]
        }
      ]
    },
    {
      "cell_type": "code",
      "source": [
        "rmsprop = keras.optimizers.RMSprop(learning_rate=1e-4)\n",
        "model2.compile(optimizer=rmsprop, loss='binary_crossentropy', metrics=['accuracy'])\n",
        "checkpoint_cb = keras.callbacks.ModelCheckpoint('best-embedding-model.h5')\n",
        "early_stopping_cb = keras.callbacks.EarlyStopping(patience=3, restore_best_weights=True)\n",
        "history = model2.fit(train_seq, train_target, epochs=100, batch_size=64, validation_data=(val_seq, val_target), callbacks=[checkpoint_cb, early_stopping_cb])"
      ],
      "metadata": {
        "colab": {
          "base_uri": "https://localhost:8080/"
        },
        "id": "XWDmN6w0ZwSo",
        "outputId": "1e9fb882-128d-4347-fba0-5370d7418538"
      },
      "execution_count": 31,
      "outputs": [
        {
          "output_type": "stream",
          "name": "stdout",
          "text": [
            "Epoch 1/100\n",
            "313/313 [==============================] - 18s 52ms/step - loss: 0.6800 - accuracy: 0.5681 - val_loss: 0.6591 - val_accuracy: 0.6394\n",
            "Epoch 2/100\n",
            "313/313 [==============================] - 16s 50ms/step - loss: 0.6418 - accuracy: 0.6720 - val_loss: 0.6278 - val_accuracy: 0.7040\n",
            "Epoch 3/100\n",
            "313/313 [==============================] - 15s 48ms/step - loss: 0.6099 - accuracy: 0.7189 - val_loss: 0.5979 - val_accuracy: 0.7360\n",
            "Epoch 4/100\n",
            "313/313 [==============================] - 15s 49ms/step - loss: 0.5827 - accuracy: 0.7429 - val_loss: 0.5873 - val_accuracy: 0.7216\n",
            "Epoch 5/100\n",
            "313/313 [==============================] - 14s 45ms/step - loss: 0.5615 - accuracy: 0.7551 - val_loss: 0.5624 - val_accuracy: 0.7530\n",
            "Epoch 6/100\n",
            "313/313 [==============================] - 8s 24ms/step - loss: 0.5434 - accuracy: 0.7684 - val_loss: 0.5449 - val_accuracy: 0.7612\n",
            "Epoch 7/100\n",
            "313/313 [==============================] - 8s 24ms/step - loss: 0.5283 - accuracy: 0.7751 - val_loss: 0.5316 - val_accuracy: 0.7710\n",
            "Epoch 8/100\n",
            "313/313 [==============================] - 8s 24ms/step - loss: 0.5152 - accuracy: 0.7796 - val_loss: 0.5215 - val_accuracy: 0.7692\n",
            "Epoch 9/100\n",
            "313/313 [==============================] - 8s 24ms/step - loss: 0.5027 - accuracy: 0.7843 - val_loss: 0.5141 - val_accuracy: 0.7750\n",
            "Epoch 10/100\n",
            "313/313 [==============================] - 7s 24ms/step - loss: 0.4917 - accuracy: 0.7904 - val_loss: 0.5098 - val_accuracy: 0.7706\n",
            "Epoch 11/100\n",
            "313/313 [==============================] - 8s 24ms/step - loss: 0.4815 - accuracy: 0.7941 - val_loss: 0.5108 - val_accuracy: 0.7664\n",
            "Epoch 12/100\n",
            "313/313 [==============================] - 8s 24ms/step - loss: 0.4726 - accuracy: 0.7973 - val_loss: 0.4920 - val_accuracy: 0.7788\n",
            "Epoch 13/100\n",
            "313/313 [==============================] - 8s 24ms/step - loss: 0.4646 - accuracy: 0.8018 - val_loss: 0.4863 - val_accuracy: 0.7856\n",
            "Epoch 14/100\n",
            "313/313 [==============================] - 8s 25ms/step - loss: 0.4575 - accuracy: 0.8043 - val_loss: 0.4865 - val_accuracy: 0.7788\n",
            "Epoch 15/100\n",
            "313/313 [==============================] - 8s 24ms/step - loss: 0.4521 - accuracy: 0.8051 - val_loss: 0.4812 - val_accuracy: 0.7832\n",
            "Epoch 16/100\n",
            "313/313 [==============================] - 8s 24ms/step - loss: 0.4466 - accuracy: 0.8084 - val_loss: 0.4769 - val_accuracy: 0.7824\n",
            "Epoch 17/100\n",
            "313/313 [==============================] - 8s 24ms/step - loss: 0.4416 - accuracy: 0.8090 - val_loss: 0.4733 - val_accuracy: 0.7864\n",
            "Epoch 18/100\n",
            "313/313 [==============================] - 8s 25ms/step - loss: 0.4374 - accuracy: 0.8113 - val_loss: 0.4721 - val_accuracy: 0.7820\n",
            "Epoch 19/100\n",
            "313/313 [==============================] - 8s 25ms/step - loss: 0.4329 - accuracy: 0.8139 - val_loss: 0.4711 - val_accuracy: 0.7874\n",
            "Epoch 20/100\n",
            "313/313 [==============================] - 8s 24ms/step - loss: 0.4293 - accuracy: 0.8138 - val_loss: 0.4720 - val_accuracy: 0.7846\n",
            "Epoch 21/100\n",
            "313/313 [==============================] - 8s 24ms/step - loss: 0.4259 - accuracy: 0.8167 - val_loss: 0.4694 - val_accuracy: 0.7868\n",
            "Epoch 22/100\n",
            "313/313 [==============================] - 8s 24ms/step - loss: 0.4232 - accuracy: 0.8187 - val_loss: 0.4694 - val_accuracy: 0.7844\n",
            "Epoch 23/100\n",
            "313/313 [==============================] - 8s 24ms/step - loss: 0.4206 - accuracy: 0.8188 - val_loss: 0.4666 - val_accuracy: 0.7850\n",
            "Epoch 24/100\n",
            "313/313 [==============================] - 8s 25ms/step - loss: 0.4172 - accuracy: 0.8209 - val_loss: 0.4670 - val_accuracy: 0.7866\n",
            "Epoch 25/100\n",
            "313/313 [==============================] - 8s 24ms/step - loss: 0.4144 - accuracy: 0.8215 - val_loss: 0.4675 - val_accuracy: 0.7842\n",
            "Epoch 26/100\n",
            "313/313 [==============================] - 8s 25ms/step - loss: 0.4115 - accuracy: 0.8236 - val_loss: 0.4671 - val_accuracy: 0.7822\n"
          ]
        }
      ]
    },
    {
      "cell_type": "code",
      "source": [
        "plt.plot(history.history['loss'])\n",
        "plt.plot(history.history['val_loss'])\n",
        "plt.xlabel('epoch')\n",
        "plt.ylabel('loss')\n",
        "plt.legend(['train', 'val'])\n",
        "plt.show()"
      ],
      "metadata": {
        "colab": {
          "base_uri": "https://localhost:8080/",
          "height": 279
        },
        "id": "6zcqhnUha5uk",
        "outputId": "f1a5b9ee-2ec2-4089-f4e5-ef270ee6668a"
      },
      "execution_count": 33,
      "outputs": [
        {
          "output_type": "display_data",
          "data": {
            "image/png": "[encoded data removed]",
            "text/plain": [
              "<Figure size 432x288 with 1 Axes>"
            ]
          },
          "metadata": {
            "needs_background": "light"
          }
        }
      ]
    }
  ]
}